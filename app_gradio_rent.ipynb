{
 "cells": [
  {
   "cell_type": "code",
   "execution_count": 1,
   "metadata": {},
   "outputs": [
    {
     "name": "stderr",
     "output_type": "stream",
     "text": [
      "/Users/arthurrios/Desktop/ARTHUR/Coding/Rocketseat/Ignite/AI/rent-model/.venv/lib/python3.11/site-packages/tqdm/auto.py:21: TqdmWarning: IProgress not found. Please update jupyter and ipywidgets. See https://ipywidgets.readthedocs.io/en/stable/user_install.html\n",
      "  from .autonotebook import tqdm as notebook_tqdm\n"
     ]
    }
   ],
   "source": [
    "import gradio as gr\n",
    "import joblib\n",
    "import pandas as pd"
   ]
  },
  {
   "cell_type": "code",
   "execution_count": 3,
   "metadata": {},
   "outputs": [],
   "source": [
    "def convert_to_int(x):\n",
    "    return x.astype(int)\n",
    "\n",
    "model = joblib.load('./rent_model.pkl')"
   ]
  },
  {
   "cell_type": "code",
   "execution_count": 20,
   "metadata": {},
   "outputs": [],
   "source": [
    "def predict(size_m2, n_rooms, home_age, garage, location):\n",
    "    print(size_m2, n_rooms, home_age, garage, location)\n",
    "    _garage = 1 if garage else 0\n",
    "    _location_periphery = 1 if \"Periphery\" in location else 0\n",
    "    _location_suburb = 1 if \"Suburb\" in location else 0\n",
    "    individual_prediction = {\n",
    "        \"size_m2\": size_m2,\n",
    "        \"n_rooms\": n_rooms,\n",
    "        \"home_age\": home_age,\n",
    "        \"garage\": _garage,\n",
    "        \"location_periphery\": _location_periphery,\n",
    "        \"location_suburb\": _location_suburb,\n",
    "    }\n",
    "    predict_df = pd.DataFrame(individual_prediction, index=[1])\n",
    "    rent = model.predict(predict_df)[0]\n",
    "    return rent"
   ]
  },
  {
   "cell_type": "code",
   "execution_count": 26,
   "metadata": {},
   "outputs": [],
   "source": [
    "demo = gr.Interface(\n",
    "    fn=predict,\n",
    "    inputs=[\n",
    "      gr.Slider(50, 200, step=1, label=\"Size (m2)\"),\n",
    "      gr.Slider(1, 5, step=1, label=\"Number of rooms\"),\n",
    "      gr.Slider(1, 50, step=1, label=\"Home age\"),\n",
    "      gr.Checkbox(label=\"Garage\"),\n",
    "      gr.Radio([\"Periphery\", \"Suburb\"], label=\"Location\"),\n",
    "    ],\n",
    "    outputs=gr.Number(label=\"Estimated Rent Value ($)\", precision=2),\n",
    ")"
   ]
  },
  {
   "cell_type": "code",
   "execution_count": 27,
   "metadata": {},
   "outputs": [
    {
     "name": "stdout",
     "output_type": "stream",
     "text": [
      "* Running on local URL:  http://127.0.0.1:7881\n",
      "* Running on public URL: https://0eef7742340b554934.gradio.live\n",
      "\n",
      "This share link expires in 72 hours. For free permanent hosting and GPU upgrades, run `gradio deploy` from the terminal in the working directory to deploy to Hugging Face Spaces (https://huggingface.co/spaces)\n"
     ]
    },
    {
     "data": {
      "text/html": [
       "<div><iframe src=\"https://0eef7742340b554934.gradio.live\" width=\"100%\" height=\"500\" allow=\"autoplay; camera; microphone; clipboard-read; clipboard-write;\" frameborder=\"0\" allowfullscreen></iframe></div>"
      ],
      "text/plain": [
       "<IPython.core.display.HTML object>"
      ]
     },
     "metadata": {},
     "output_type": "display_data"
    },
    {
     "data": {
      "text/plain": []
     },
     "execution_count": 27,
     "metadata": {},
     "output_type": "execute_result"
    },
    {
     "name": "stdout",
     "output_type": "stream",
     "text": [
      "125 1 36 True Suburb\n"
     ]
    }
   ],
   "source": [
    "demo.launch(share=True)"
   ]
  },
  {
   "cell_type": "code",
   "execution_count": null,
   "metadata": {},
   "outputs": [],
   "source": []
  },
  {
   "cell_type": "code",
   "execution_count": null,
   "metadata": {},
   "outputs": [],
   "source": []
  }
 ],
 "metadata": {
  "kernelspec": {
   "display_name": ".venv",
   "language": "python",
   "name": "python3"
  },
  "language_info": {
   "codemirror_mode": {
    "name": "ipython",
    "version": 3
   },
   "file_extension": ".py",
   "mimetype": "text/x-python",
   "name": "python",
   "nbconvert_exporter": "python",
   "pygments_lexer": "ipython3",
   "version": "3.11.3"
  }
 },
 "nbformat": 4,
 "nbformat_minor": 2
}
